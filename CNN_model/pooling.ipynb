{
 "cells": [
  {
   "cell_type": "code",
   "execution_count": 7,
   "metadata": {
    "collapsed": true,
    "pycharm": {
     "name": "#%%\n"
    }
   },
   "outputs": [
    {
     "name": "stdout",
     "output_type": "stream",
     "text": [
      "mode = average\n",
      "A2 = [[[[-0.09498456  0.11180064 -0.14263511]]]\n",
      "\n",
      "\n",
      " [[[-0.09525108  0.28325018  0.33035185]]]]\n"
     ]
    }
   ],
   "source": [
    "import numpy as np\n",
    "\n",
    "class Pooling:\n",
    "    def __init__(self, filter_shape=(int,int), mode='mean', stride=1):\n",
    "        self.hparams = {\n",
    "            \"filter_shape\" : filter_shape,\n",
    "            \"stride\" : stride,\n",
    "            }\n",
    "        self.mode = mode\n",
    "        self.cache = {}\n",
    "\n",
    "    def forward_pooling(self, input_prev):\n",
    "        (dim_train, dim_height_prev, dim_width_prev, dim_channels_prev) = input_prev.shape\n",
    "        (f, f) = self.hparams[\"filter_shape\"]\n",
    "\n",
    "        dim_height = int((dim_height_prev - f)/self.hparams[\"stride\"]) + 1\n",
    "        dim_width = int((dim_width_prev - f)/self.hparams[\"stride\"]) + 1\n",
    "        dim_channels = dim_channels_prev\n",
    "\n",
    "        out_pool_layer = np.zeros((dim_train, dim_height, dim_width, dim_channels))\n",
    "\n",
    "        for i in range(dim_train):\n",
    "            for h in range(dim_height):\n",
    "                for w in range(dim_width):\n",
    "                    for c in range(dim_channels):\n",
    "                        height_start = h*self.hparams[\"stride\"]\n",
    "                        height_end = h*self.hparams[\"stride\"] + f\n",
    "                        width_start = w*self.hparams[\"stride\"]\n",
    "                        width_end = w*self.hparams[\"stride\"] + f\n",
    "\n",
    "                        input_prev_slice = input_prev[i, height_start:height_end, width_start:width_end, c]\n",
    "\n",
    "                        if self.mode == \"mean\":\n",
    "                            out_pool_layer[i,h,w,c] = np.mean(input_prev_slice)\n",
    "                        elif self.mode == \"max\":\n",
    "                            out_pool_layer[i,h,w,c] = np.max(input_prev_slice)\n",
    "                        elif self.mode == \"min\":\n",
    "                            out_pool_layer[i,h,w,c] = np.min(input_prev_slice)\n",
    "                        else:\n",
    "                            out_pool_layer[i,h,w,c] = np.mean(input_prev_slice)\n",
    "\n",
    "        self.cache['input_prev'] = input_prev\n",
    "        assert out_pool_layer.shape == (dim_train, dim_height, dim_width, dim_channels)\n",
    "        return out_pool_layer\n",
    "\n"
   ]
  }
 ],
 "metadata": {
  "kernelspec": {
   "display_name": "Python 3",
   "language": "python",
   "name": "python3"
  },
  "language_info": {
   "codemirror_mode": {
    "name": "ipython",
    "version": 2
   },
   "file_extension": ".py",
   "mimetype": "text/x-python",
   "name": "python",
   "nbconvert_exporter": "python",
   "pygments_lexer": "ipython2",
   "version": "2.7.6"
  }
 },
 "nbformat": 4,
 "nbformat_minor": 0
}