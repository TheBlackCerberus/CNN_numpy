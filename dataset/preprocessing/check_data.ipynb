{
 "cells": [
  {
   "cell_type": "code",
   "execution_count": 2,
   "metadata": {
    "collapsed": true,
    "pycharm": {
     "name": "#%%\n"
    }
   },
   "outputs": [
    {
     "name": "stdout",
     "output_type": "stream",
     "text": [
      "['Soybean___healthy', 'Pepper_bell___bacterial_spot', 'Tomato___leaf_mold', 'Strawberry___healthy', 'Strawberry___leaf_scorch', 'Grape___healthy', 'Squash___powdery_mildew', 'Cherry____powdery_mildew', 'Apple___healthy', 'Tomato___spider_mites__two-spotted_spider_mite', 'Raspberry___healthy', 'Cherry____healthy', 'Potato___healthy', 'Tomato___early_blight', 'Corn____cercospora_leaf_spot__gray_leaf_spot', 'Blueberry___healthy', 'Orange___haunglongbing_(citrus_greening)', 'Peach___bacterial_spot', 'Corn____common_rust_', 'Peach___healthy', 'Apple___black_rot', 'Corn____healthy', 'Potato___late_blight', 'Corn____northern_leaf_blight', 'Tomato___target_spot', 'Pepper_bell___healthy', 'Grape___esca_(black_measles)', 'Tomato___tomato_mosaic_virus', 'Potato___early_blight', 'Tomato___septoria_leaf_spot', 'Grape___leaf_blight_(isariopsis_leaf_spot)', 'Apple___cedar_apple_rust', 'Tomato___bacterial_spot', 'Tomato___tomato_yellow_leaf_curl_virus', 'Tomato___late_blight', 'Grape___black_rot', 'Tomato___healthy', 'Apple___apple_scab']\n"
     ]
    }
   ],
   "source": [
    "import os\n",
    "import pandas as pd\n",
    "from torchvision.datasets import ImageFolder\n",
    "from PIL import Image\n",
    "import numpy as np\n",
    "import cv2\n",
    "\n",
    "path = \"dataset/plant_diseases\"\n",
    "train_dir = path + \"/train\"\n",
    "valid_dir = path + \"/valid\"\n",
    "test_dir = path + \"/test\"\n",
    "categories_dir = os.listdir(train_dir)\n",
    "CATEGORIES = categories_dir\n",
    "print(CATEGORIES)"
   ]
  },
  {
   "cell_type": "code",
   "execution_count": 3,
   "outputs": [
    {
     "name": "stdout",
     "output_type": "stream",
     "text": [
      "Loading the valid images of Soybean___healthy\n",
      "Read 254 from Soybean___healthy\n",
      "Loading the valid images of Pepper_bell___bacterial_spot\n",
      "Read 230 from Pepper_bell___bacterial_spot\n",
      "Loading the valid images of Tomato___leaf_mold\n",
      "Read 242 from Tomato___leaf_mold\n",
      "Loading the valid images of Strawberry___healthy\n",
      "Read 232 from Strawberry___healthy\n",
      "Loading the valid images of Strawberry___leaf_scorch\n",
      "Read 227 from Strawberry___leaf_scorch\n",
      "Loading the valid images of Grape___healthy\n",
      "Read 209 from Grape___healthy\n",
      "Loading the valid images of Squash___powdery_mildew\n",
      "Read 226 from Squash___powdery_mildew\n",
      "Loading the valid images of Cherry____powdery_mildew\n",
      "Read 212 from Cherry____powdery_mildew\n",
      "Loading the valid images of Apple___healthy\n",
      "Read 254 from Apple___healthy\n",
      "Loading the valid images of Tomato___spider_mites__two-spotted_spider_mite\n",
      "Read 215 from Tomato___spider_mites__two-spotted_spider_mite\n",
      "Loading the valid images of Raspberry___healthy\n",
      "Read 229 from Raspberry___healthy\n",
      "Loading the valid images of Cherry____healthy\n",
      "Read 228 from Cherry____healthy\n",
      "Loading the valid images of Potato___healthy\n",
      "Read 234 from Potato___healthy\n",
      "Loading the valid images of Tomato___early_blight\n",
      "Read 246 from Tomato___early_blight\n",
      "Loading the valid images of Corn____cercospora_leaf_spot__gray_leaf_spot\n",
      "Read 247 from Corn____cercospora_leaf_spot__gray_leaf_spot\n",
      "Loading the valid images of Blueberry___healthy\n",
      "Read 231 from Blueberry___healthy\n",
      "Loading the valid images of Orange___haunglongbing_(citrus_greening)\n",
      "Read 241 from Orange___haunglongbing_(citrus_greening)\n",
      "Loading the valid images of Peach___bacterial_spot\n",
      "Read 232 from Peach___bacterial_spot\n",
      "Loading the valid images of Corn____common_rust_\n",
      "Read 246 from Corn____common_rust_\n",
      "Loading the valid images of Peach___healthy\n",
      "Read 222 from Peach___healthy\n",
      "Loading the valid images of Apple___black_rot\n",
      "Read 246 from Apple___black_rot\n",
      "Loading the valid images of Corn____healthy\n",
      "Read 249 from Corn____healthy\n",
      "Loading the valid images of Potato___late_blight\n",
      "Read 240 from Potato___late_blight\n",
      "Loading the valid images of Corn____northern_leaf_blight\n",
      "Read 290 from Corn____northern_leaf_blight\n",
      "Loading the valid images of Tomato___target_spot\n",
      "Read 228 from Tomato___target_spot\n",
      "Loading the valid images of Pepper_bell___healthy\n",
      "Read 250 from Pepper_bell___healthy\n",
      "Loading the valid images of Grape___esca_(black_measles)\n",
      "Read 246 from Grape___esca_(black_measles)\n",
      "Loading the valid images of Tomato___tomato_mosaic_virus\n",
      "Read 220 from Tomato___tomato_mosaic_virus\n",
      "Loading the valid images of Potato___early_blight\n",
      "Read 253 from Potato___early_blight\n",
      "Loading the valid images of Tomato___septoria_leaf_spot\n",
      "Read 228 from Tomato___septoria_leaf_spot\n",
      "Loading the valid images of Grape___leaf_blight_(isariopsis_leaf_spot)\n",
      "Read 218 from Grape___leaf_blight_(isariopsis_leaf_spot)\n",
      "Loading the valid images of Apple___cedar_apple_rust\n",
      "Read 218 from Apple___cedar_apple_rust\n",
      "Loading the valid images of Tomato___bacterial_spot\n",
      "Read 215 from Tomato___bacterial_spot\n",
      "Loading the valid images of Tomato___tomato_yellow_leaf_curl_virus\n",
      "Read 252 from Tomato___tomato_yellow_leaf_curl_virus\n",
      "Loading the valid images of Tomato___late_blight\n",
      "Read 264 from Tomato___late_blight\n",
      "Loading the valid images of Grape___black_rot\n",
      "Read 243 from Grape___black_rot\n",
      "Loading the valid images of Tomato___healthy\n",
      "Read 242 from Tomato___healthy\n",
      "Loading the valid images of Apple___apple_scab\n",
      "Read 241 from Apple___apple_scab\n",
      "Saving of data file is completed...\n"
     ]
    }
   ],
   "source": [
    "#labels = {cat:num for num,cat in enumerate(CATEGORIES)}\n",
    "#num_labels = len(labels)\n",
    "#train = pd.DataFrame(columns=['Filename', 'Label', 'Class'])\n",
    "import warnings\n",
    "warnings.filterwarnings('ignore')\n",
    "\n",
    "def create_csv(dict_labels, datatype=\"valid\", path=\"dataset/plant_diseases\"):\n",
    "\n",
    "    data_frame = pd.DataFrame(columns=['Filename', 'Class', 'Label'])\n",
    "\n",
    "    if datatype == \"train\":\n",
    "        data_dir = path + \"/train\"\n",
    "    elif datatype == \"valid\":\n",
    "        data_dir = path + \"/valid\"\n",
    "    elif datatype == \"test\":\n",
    "        data_dir = path + \"/test\"\n",
    "    else:\n",
    "        raise ValueError(\"Invalid datatype\")\n",
    "\n",
    "    data_dir_list = os.listdir(data_dir)\n",
    "\n",
    "    for class_dataset in data_dir_list:\n",
    "        img_list = os.listdir(os.path.join(data_dir,class_dataset))\n",
    "        label = dict_labels[class_dataset]\n",
    "        print(f\"Loading the {datatype} images of {class_dataset}\")\n",
    "        num_images = len(img_list)\n",
    "        num_corrupted_files=0\n",
    "        for img in range(num_images):\n",
    "            try:\n",
    "                img_name = img_list[img]\n",
    "                img_filename = os.path.join(data_dir,class_dataset,img_name)\n",
    "                data_frame = data_frame.append({'Filename': img_filename,'Class': class_dataset, 'Label': label},ignore_index=True)\n",
    "            except:\n",
    "                print ('{} is corrupted\\n'.format(img_filename))\n",
    "                num_corrupted_files+=1\n",
    "\n",
    "        print(f\"Read {num_images} from {class_dataset}\")\n",
    "\n",
    "    if not os.path.exists(\"dataset/plant_diseases/data_files\"):\n",
    "        os.mkdir(\"dataset/plant_diseases/data_files\")\n",
    "\n",
    "    data_frame.to_csv(\"dataset/plant_diseases/data_files/plant_diseases_\" + str(datatype) + \".csv\")\n",
    "    print(\"Saving of data file is completed...\")\n",
    "\n",
    "\n",
    "labels = {cat:num for num,cat in enumerate(CATEGORIES)}\n",
    "create_csv(labels, datatype=\"valid\", path=\"dataset/plant_diseases\")\n"
   ],
   "metadata": {
    "collapsed": false,
    "pycharm": {
     "name": "#%%\n"
    }
   }
  },
  {
   "cell_type": "code",
   "execution_count": 9,
   "outputs": [
    {
     "data": {
      "text/plain": "                                                    Number of images\nApple___Apple_scab                                              2016\nApple___Black_rot                                               1987\nApple___Cedar_apple_rust                                        1760\nApple___healthy                                                 2008\nBlueberry___healthy                                             1816\nCherry_(including_sour)___Powdery_mildew                        1683\nCherry_(including_sour)___healthy                               1826\nCorn_(maize)___Cercospora_leaf_spot Gray_leaf_spot              1642\nCorn_(maize)___Common_rust_                                     1907\nCorn_(maize)___Northern_Leaf_Blight                             1908\nCorn_(maize)___healthy                                          1859\nGrape___Black_rot                                               1888\nGrape___Esca_(Black_Measles)                                    1920\nGrape___Leaf_blight_(Isariopsis_Leaf_Spot)                      1722\nGrape___healthy                                                 1692\nOrange___Haunglongbing_(Citrus_greening)                        2010\nPeach___Bacterial_spot                                          1838\nPeach___healthy                                                 1728\nPepper,_bell___Bacterial_spot                                   1913\nPepper,_bell___healthy                                          1988\nPotato___Early_blight                                           1939\nPotato___Late_blight                                            1939\nPotato___healthy                                                1824\nRaspberry___healthy                                             1781\nSoybean___healthy                                               2022\nSquash___Powdery_mildew                                         1736\nStrawberry___Leaf_scorch                                        1774\nStrawberry___healthy                                            1824\nTomato___Bacterial_spot                                         1702\nTomato___Early_blight                                           1920\nTomato___Late_blight                                            1851\nTomato___Leaf_Mold                                              1882\nTomato___Septoria_leaf_spot                                     1745\nTomato___Spider_mites Two-spotted_spider_mite                   1741\nTomato___Target_Spot                                            1827\nTomato___Tomato_Yellow_Leaf_Curl_Virus                          1961\nTomato___Tomato_mosaic_virus                                    1790\nTomato___healthy                                                1926",
      "text/html": "<div>\n<style scoped>\n    .dataframe tbody tr th:only-of-type {\n        vertical-align: middle;\n    }\n\n    .dataframe tbody tr th {\n        vertical-align: top;\n    }\n\n    .dataframe thead th {\n        text-align: right;\n    }\n</style>\n<table border=\"1\" class=\"dataframe\">\n  <thead>\n    <tr style=\"text-align: right;\">\n      <th></th>\n      <th>Number of images</th>\n    </tr>\n  </thead>\n  <tbody>\n    <tr>\n      <th>Apple___Apple_scab</th>\n      <td>2016</td>\n    </tr>\n    <tr>\n      <th>Apple___Black_rot</th>\n      <td>1987</td>\n    </tr>\n    <tr>\n      <th>Apple___Cedar_apple_rust</th>\n      <td>1760</td>\n    </tr>\n    <tr>\n      <th>Apple___healthy</th>\n      <td>2008</td>\n    </tr>\n    <tr>\n      <th>Blueberry___healthy</th>\n      <td>1816</td>\n    </tr>\n    <tr>\n      <th>Cherry_(including_sour)___Powdery_mildew</th>\n      <td>1683</td>\n    </tr>\n    <tr>\n      <th>Cherry_(including_sour)___healthy</th>\n      <td>1826</td>\n    </tr>\n    <tr>\n      <th>Corn_(maize)___Cercospora_leaf_spot Gray_leaf_spot</th>\n      <td>1642</td>\n    </tr>\n    <tr>\n      <th>Corn_(maize)___Common_rust_</th>\n      <td>1907</td>\n    </tr>\n    <tr>\n      <th>Corn_(maize)___Northern_Leaf_Blight</th>\n      <td>1908</td>\n    </tr>\n    <tr>\n      <th>Corn_(maize)___healthy</th>\n      <td>1859</td>\n    </tr>\n    <tr>\n      <th>Grape___Black_rot</th>\n      <td>1888</td>\n    </tr>\n    <tr>\n      <th>Grape___Esca_(Black_Measles)</th>\n      <td>1920</td>\n    </tr>\n    <tr>\n      <th>Grape___Leaf_blight_(Isariopsis_Leaf_Spot)</th>\n      <td>1722</td>\n    </tr>\n    <tr>\n      <th>Grape___healthy</th>\n      <td>1692</td>\n    </tr>\n    <tr>\n      <th>Orange___Haunglongbing_(Citrus_greening)</th>\n      <td>2010</td>\n    </tr>\n    <tr>\n      <th>Peach___Bacterial_spot</th>\n      <td>1838</td>\n    </tr>\n    <tr>\n      <th>Peach___healthy</th>\n      <td>1728</td>\n    </tr>\n    <tr>\n      <th>Pepper,_bell___Bacterial_spot</th>\n      <td>1913</td>\n    </tr>\n    <tr>\n      <th>Pepper,_bell___healthy</th>\n      <td>1988</td>\n    </tr>\n    <tr>\n      <th>Potato___Early_blight</th>\n      <td>1939</td>\n    </tr>\n    <tr>\n      <th>Potato___Late_blight</th>\n      <td>1939</td>\n    </tr>\n    <tr>\n      <th>Potato___healthy</th>\n      <td>1824</td>\n    </tr>\n    <tr>\n      <th>Raspberry___healthy</th>\n      <td>1781</td>\n    </tr>\n    <tr>\n      <th>Soybean___healthy</th>\n      <td>2022</td>\n    </tr>\n    <tr>\n      <th>Squash___Powdery_mildew</th>\n      <td>1736</td>\n    </tr>\n    <tr>\n      <th>Strawberry___Leaf_scorch</th>\n      <td>1774</td>\n    </tr>\n    <tr>\n      <th>Strawberry___healthy</th>\n      <td>1824</td>\n    </tr>\n    <tr>\n      <th>Tomato___Bacterial_spot</th>\n      <td>1702</td>\n    </tr>\n    <tr>\n      <th>Tomato___Early_blight</th>\n      <td>1920</td>\n    </tr>\n    <tr>\n      <th>Tomato___Late_blight</th>\n      <td>1851</td>\n    </tr>\n    <tr>\n      <th>Tomato___Leaf_Mold</th>\n      <td>1882</td>\n    </tr>\n    <tr>\n      <th>Tomato___Septoria_leaf_spot</th>\n      <td>1745</td>\n    </tr>\n    <tr>\n      <th>Tomato___Spider_mites Two-spotted_spider_mite</th>\n      <td>1741</td>\n    </tr>\n    <tr>\n      <th>Tomato___Target_Spot</th>\n      <td>1827</td>\n    </tr>\n    <tr>\n      <th>Tomato___Tomato_Yellow_Leaf_Curl_Virus</th>\n      <td>1961</td>\n    </tr>\n    <tr>\n      <th>Tomato___Tomato_mosaic_virus</th>\n      <td>1790</td>\n    </tr>\n    <tr>\n      <th>Tomato___healthy</th>\n      <td>1926</td>\n    </tr>\n  </tbody>\n</table>\n</div>"
     },
     "execution_count": 9,
     "metadata": {},
     "output_type": "execute_result"
    }
   ],
   "source": [
    "\n",
    "\n",
    "pairs = {}\n",
    "\n",
    "for plant in CATEGORIES:\n",
    "    pairs[plant] = len(os.listdir(train_dir + '/' + plant))\n",
    "\n",
    "img_and_class = pd.DataFrame(pairs.values(), index=pairs.keys(), columns=['Number of images'])\n",
    "img_and_class"
   ],
   "metadata": {
    "collapsed": false,
    "pycharm": {
     "name": "#%%\n"
    }
   }
  },
  {
   "cell_type": "code",
   "execution_count": 5,
   "outputs": [
    {
     "name": "stdout",
     "output_type": "stream",
     "text": [
      "Total number of classes:38\n"
     ]
    }
   ],
   "source": [
    "print(f\"Total number of classes:{len(diseases)}\")"
   ],
   "metadata": {
    "collapsed": false,
    "pycharm": {
     "name": "#%%\n"
    }
   }
  },
  {
   "cell_type": "code",
   "execution_count": null,
   "outputs": [],
   "source": [
    "import matplotlib.pyplot as plt\n",
    "import matplotlib.image as mpimg\n",
    "training_data = []\n",
    "def create_data_set():\n",
    "    for category in CATEGORIES:\n",
    "        path = os.path.join(train_dir, category) #path to categorie dir\n",
    "        class_number = CATEGORIES.index(category)\n",
    "        for image in os.listdir(path):\n",
    "            img_array = cv2.imread(os.path.join(path,image), cv2.COLOR_BGR2RGB)\n",
    "            training_data.append([img_array, class_number])\n",
    "\n",
    "\n",
    "create_data_set()"
   ],
   "metadata": {
    "collapsed": false,
    "pycharm": {
     "name": "#%%\n"
    }
   }
  },
  {
   "cell_type": "code",
   "execution_count": 19,
   "outputs": [
    {
     "ename": "TypeError",
     "evalue": "list indices must be integers or slices, not str",
     "output_type": "error",
     "traceback": [
      "\u001B[0;31m---------------------------------------------------------------------------\u001B[0m",
      "\u001B[0;31mTypeError\u001B[0m                                 Traceback (most recent call last)",
      "Input \u001B[0;32mIn [19]\u001B[0m, in \u001B[0;36m<cell line: 3>\u001B[0;34m()\u001B[0m\n\u001B[1;32m      3\u001B[0m \u001B[38;5;28;01mfor\u001B[39;00m disease \u001B[38;5;129;01min\u001B[39;00m sorted_diseases:\n\u001B[1;32m      4\u001B[0m     \u001B[38;5;28;01mfor\u001B[39;00m file \u001B[38;5;129;01min\u001B[39;00m os\u001B[38;5;241m.\u001B[39mlistdir(train_dir \u001B[38;5;241m+\u001B[39m \u001B[38;5;124m'\u001B[39m\u001B[38;5;124m/\u001B[39m\u001B[38;5;124m'\u001B[39m \u001B[38;5;241m+\u001B[39m disease):\n\u001B[0;32m----> 5\u001B[0m         diseases[disease] \u001B[38;5;241m=\u001B[39m cv2\u001B[38;5;241m.\u001B[39mimread(file)\n",
      "\u001B[0;31mTypeError\u001B[0m: list indices must be integers or slices, not str"
     ]
    }
   ],
   "source": [
    "\n",
    "\n",
    "\n",
    "\n"
   ],
   "metadata": {
    "collapsed": false,
    "pycharm": {
     "name": "#%%\n"
    }
   }
  },
  {
   "cell_type": "code",
   "execution_count": 8,
   "outputs": [
    {
     "name": "stdout",
     "output_type": "stream",
     "text": [
      "Plants: ['Pepper,_bell', 'Tomato', 'Soybean', 'Corn_(maize)', 'Apple', 'Strawberry', 'Grape', 'Peach', 'Raspberry', 'Potato', 'Blueberry', 'Orange', 'Cherry_(including_sour)', 'Squash']\n",
      "Number of plants: 14\n"
     ]
    }
   ],
   "source": [
    "\n"
   ],
   "metadata": {
    "collapsed": false,
    "pycharm": {
     "name": "#%%\n"
    }
   }
  },
  {
   "cell_type": "code",
   "execution_count": null,
   "outputs": [],
   "source": [],
   "metadata": {
    "collapsed": false,
    "pycharm": {
     "name": "#%%\n"
    }
   }
  }
 ],
 "metadata": {
  "kernelspec": {
   "display_name": "Python 3",
   "language": "python",
   "name": "python3"
  },
  "language_info": {
   "codemirror_mode": {
    "name": "ipython",
    "version": 2
   },
   "file_extension": ".py",
   "mimetype": "text/x-python",
   "name": "python",
   "nbconvert_exporter": "python",
   "pygments_lexer": "ipython2",
   "version": "2.7.6"
  }
 },
 "nbformat": 4,
 "nbformat_minor": 0
}