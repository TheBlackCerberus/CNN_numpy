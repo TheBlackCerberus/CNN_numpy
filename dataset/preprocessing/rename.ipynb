{
 "cells": [
  {
   "cell_type": "code",
   "execution_count": 94,
   "metadata": {
    "collapsed": true,
    "pycharm": {
     "name": "#%%\n"
    }
   },
   "outputs": [],
   "source": [
    "import os\n",
    "\n",
    "path = \"/home/blackcerberus/Documents/Documents/DS_python/CNN_numpy/dataset/plant_diseases/train\"\n",
    "data_dir_list = os.listdir(os.path.join(path))\n",
    "# for data_set in os.listdir():\n",
    "#     plant_name, class_category = data_set.split('___')\n",
    "#     class_category = class_category.lower()\n",
    "#     plant_name = plant_name.replace(',','')\n",
    "#     plant_name = plant_name.replace('(maize)','')\n",
    "#     plant_name = plant_name.replace('(including_sour)','')\n",
    "#     class_category = class_category.replace(' ', '__')\n",
    "#     new_name = \"{}___{}\".format(plant_name,class_category)\n",
    "#     os.rename(data_set, new_name)\n"
   ]
  },
  {
   "cell_type": "code",
   "execution_count": 95,
   "outputs": [
    {
     "name": "stdout",
     "output_type": "stream",
     "text": [
      "Soybean___healthy\n",
      "Pepper_bell___bacterial_spot\n",
      "Tomato___leaf_mold\n",
      "Strawberry___healthy\n",
      "Strawberry___leaf_scorch\n",
      "Grape___healthy\n",
      "Squash___powdery_mildew\n",
      "Cherry____powdery_mildew\n",
      "Apple___healthy\n",
      "Tomato___spider_mites__two-spotted_spider_mite\n",
      "Raspberry___healthy\n",
      "Cherry____healthy\n",
      "Potato___healthy\n",
      "Tomato___early_blight\n",
      "Corn____cercospora_leaf_spot__gray_leaf_spot\n",
      "Blueberry___healthy\n",
      "Orange___haunglongbing_(citrus_greening)\n",
      "Peach___bacterial_spot\n",
      "Corn____common_rust_\n",
      "Peach___healthy\n",
      "Apple___black_rot\n",
      "Corn____healthy\n",
      "Potato___late_blight\n",
      "Corn____northern_leaf_blight\n",
      "Tomato___target_spot\n",
      "Pepper_bell___healthy\n",
      "Grape___esca_(black_measles)\n",
      "Tomato___tomato_mosaic_virus\n",
      "Potato___early_blight\n",
      "Tomato___septoria_leaf_spot\n",
      "Grape___leaf_blight_(isariopsis_leaf_spot)\n",
      "Apple___cedar_apple_rust\n",
      "Tomato___bacterial_spot\n",
      "Tomato___tomato_yellow_leaf_curl_virus\n",
      "Tomato___late_blight\n",
      "Grape___black_rot\n",
      "Tomato___healthy\n",
      "Apple___apple_scab\n"
     ]
    }
   ],
   "source": [
    "for data_set in data_dir_list:\n",
    "    plant_name, class_category = data_set.split('___')\n",
    "    img_list = os.listdir(os.path.join(path,data_set))\n",
    "    os.chdir(os.path.join(path, data_set))\n",
    "    num_images = len(img_list)\n",
    "    print(data_set)\n",
    "    for i in range(len(img_list)):\n",
    "        img = img_list[i]\n",
    "        img_name, ext = os.path.splitext(img)\n",
    "        new_img = \"{}|{}|{}{}\".format(plant_name,class_category, i, ext)\n",
    "        os.rename(img, new_img)\n",
    "    os.chdir(path)\n",
    "\n"
   ],
   "metadata": {
    "collapsed": false,
    "pycharm": {
     "name": "#%%\n"
    }
   }
  },
  {
   "cell_type": "code",
   "execution_count": null,
   "outputs": [],
   "source": [
    "\n",
    "\n",
    "def load_samples(csv_file):\n",
    "    data = pd.read_csv(os.path.join('data_files',csv_file))\n",
    "    data = data[['FileName', 'Label', 'ClassName']]\n",
    "    file_names = list(data.iloc[:,0])\n",
    "    # Get the labels present in the second column\n",
    "    labels = list(data.iloc[:,1])\n",
    "    samples=[]\n",
    "    for samp,lab in zip(file_names,labels):\n",
    "        samples.append([samp,lab])\n",
    "    return samples"
   ],
   "metadata": {
    "collapsed": false,
    "pycharm": {
     "name": "#%%\n"
    }
   }
  }
 ],
 "metadata": {
  "kernelspec": {
   "display_name": "Python 3",
   "language": "python",
   "name": "python3"
  },
  "language_info": {
   "codemirror_mode": {
    "name": "ipython",
    "version": 2
   },
   "file_extension": ".py",
   "mimetype": "text/x-python",
   "name": "python",
   "nbconvert_exporter": "python",
   "pygments_lexer": "ipython2",
   "version": "2.7.6"
  }
 },
 "nbformat": 4,
 "nbformat_minor": 0
}