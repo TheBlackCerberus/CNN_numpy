{
 "cells": [
  {
   "cell_type": "code",
   "execution_count": 1,
   "metadata": {
    "collapsed": true,
    "pycharm": {
     "name": "#%%\n"
    }
   },
   "outputs": [
    {
     "name": "stdout",
     "output_type": "stream",
     "text": [
      "[['dataset/plant_diseases/train/Soybean___healthy/Soybean|healthy|513.JPG', 24], ['dataset/plant_diseases/train/Soybean___healthy/Soybean|healthy|642.JPG', 24], ['dataset/plant_diseases/train/Soybean___healthy/Soybean|healthy|955.JPG', 24], ['dataset/plant_diseases/train/Soybean___healthy/Soybean|healthy|652.JPG', 24], ['dataset/plant_diseases/train/Soybean___healthy/Soybean|healthy|631.JPG', 24]]\n"
     ]
    }
   ],
   "source": [
    "from cv2 import samples\n",
    "\n",
    "from model import Model\n",
    "import pandas as pd\n",
    "import os\n",
    "\n",
    "path = \"/home/blackcerberus/Documents/Documents/DS_python/cnn_numpy/dataset/plant_diseases/data_files\"\n",
    "\n",
    "def load_samples(csv_file, path):\n",
    "    data_frame = pd.read_csv(os.path.join(path,csv_file))\n",
    "    data_frame = data_frame[['Filename', 'Class', 'Label']]\n",
    "    file_names = list(data_frame.iloc[:,0])\n",
    "    # Get the labels present in the second column\n",
    "    labels = list(data_frame.iloc[:,2])\n",
    "    samples=[]\n",
    "    for samp,lab in zip(file_names,labels):\n",
    "        samples.append([samp,lab])\n",
    "    return samples\n",
    "\n",
    "data_set = \"plant_diseases_train.csv\"\n",
    "sample = load_samples(data_set, path=path)\n",
    "\n",
    "print(sample[0:5])"
   ]
  },
  {
   "cell_type": "code",
   "execution_count": 3,
   "outputs": [],
   "source": [
    "from convolution import Convolution\n",
    "from loss import CategoricalCrossEntropy\n",
    "\n",
    "model = Model(\n",
    "    Convolution(num_filters=5, filter_shape=(2,2), stride=2, padding='same', pad=1, initializer='he_uniform')\n",
    ")\n",
    "root_dir = \"/home/blackcerberus/Documents/Documents/DS_python/cnn_numpy/\"\n",
    "model.set_loss(CategoricalCrossEntropy)\n"
   ],
   "metadata": {
    "collapsed": false,
    "pycharm": {
     "name": "#%%\n"
    }
   }
  },
  {
   "cell_type": "code",
   "execution_count": 10,
   "outputs": [
    {
     "name": "stdout",
     "output_type": "stream",
     "text": [
      "Epoch 1\n",
      "Label batch 1: [36 18 18 11 12  2 29 20 32 14 19 25 25  7 26  4 30  0  6 20 16 27  3 15\n",
      " 27 16 37 30 24  5 32  7 36 24  2  5 26  9  5 29 24 31  3  2 25 25 12 19\n",
      "  9  4 14 28 18 32  1 35 26 25 29 16 31 10 35 14  3 12  5 32 23  9 14  5\n",
      " 27 34 25 24 13  0 25  7 32 18 25 31 29  6  1 36  5  8  1  3 23 31 29 36\n",
      " 20 18  8 15  7 25 17 24 15 25 26 12 18 30 37  7 10  6  5 24 16 18  8 20\n",
      " 27  3  2  4  6 16 17 11]\n",
      "(128, 129, 129, 5)\n"
     ]
    },
    {
     "ename": "ValueError",
     "evalue": "operands could not be broadcast together with shapes (128,) (128,129,129,5) ",
     "output_type": "error",
     "traceback": [
      "\u001B[0;31m---------------------------------------------------------------------------\u001B[0m",
      "\u001B[0;31mValueError\u001B[0m                                Traceback (most recent call last)",
      "Input \u001B[0;32mIn [10]\u001B[0m, in \u001B[0;36m<cell line: 1>\u001B[0;34m()\u001B[0m\n\u001B[0;32m----> 1\u001B[0m \u001B[43mmodel\u001B[49m\u001B[38;5;241;43m.\u001B[39;49m\u001B[43mfit\u001B[49m\u001B[43m(\u001B[49m\u001B[43msamples\u001B[49m\u001B[38;5;241;43m=\u001B[39;49m\u001B[43msample\u001B[49m\u001B[43m,\u001B[49m\u001B[43m \u001B[49m\u001B[43mbatch_size\u001B[49m\u001B[38;5;241;43m=\u001B[39;49m\u001B[38;5;241;43m128\u001B[39;49m\u001B[43m,\u001B[49m\u001B[43m \u001B[49m\u001B[43mepochs\u001B[49m\u001B[38;5;241;43m=\u001B[39;49m\u001B[38;5;241;43m5\u001B[39;49m\u001B[43m,\u001B[49m\u001B[43m \u001B[49m\u001B[43mroot_dir\u001B[49m\u001B[38;5;241;43m=\u001B[39;49m\u001B[43mroot_dir\u001B[49m\u001B[43m)\u001B[49m\n",
      "File \u001B[0;32m~/Documents/Documents/DS_python/cnn_numpy/cnn_model/model.py:92\u001B[0m, in \u001B[0;36mModel.fit\u001B[0;34m(self, samples, batch_size, epochs, root_dir)\u001B[0m\n\u001B[1;32m     90\u001B[0m \u001B[38;5;28;01mfor\u001B[39;00m layer \u001B[38;5;129;01min\u001B[39;00m \u001B[38;5;28mreversed\u001B[39m(\u001B[38;5;28mself\u001B[39m\u001B[38;5;241m.\u001B[39mlayers):\n\u001B[1;32m     91\u001B[0m     batch_pred \u001B[38;5;241m=\u001B[39m layer\u001B[38;5;241m.\u001B[39mforward_pass(batch_pred, save_cache\u001B[38;5;241m=\u001B[39m\u001B[38;5;28;01mTrue\u001B[39;00m)\n\u001B[0;32m---> 92\u001B[0m dA \u001B[38;5;241m=\u001B[39m \u001B[38;5;28;43mself\u001B[39;49m\u001B[38;5;241;43m.\u001B[39;49m\u001B[43mloss\u001B[49m\u001B[38;5;241;43m.\u001B[39;49m\u001B[43mgrad\u001B[49m\u001B[43m(\u001B[49m\u001B[43mlabels_batch\u001B[49m\u001B[43m,\u001B[49m\u001B[43m \u001B[49m\u001B[43mbatch_pred\u001B[49m\u001B[43m)\u001B[49m\n\u001B[1;32m     93\u001B[0m \u001B[38;5;28;01mfor\u001B[39;00m layer \u001B[38;5;129;01min\u001B[39;00m \u001B[38;5;28mself\u001B[39m\u001B[38;5;241m.\u001B[39mlayers:\n\u001B[1;32m     94\u001B[0m     dA \u001B[38;5;241m=\u001B[39m layer\u001B[38;5;241m.\u001B[39mbackward_pass(dA)\n",
      "File \u001B[0;32m~/Documents/Documents/DS_python/cnn_numpy/cnn_model/loss.py:12\u001B[0m, in \u001B[0;36mCategoricalCrossEntropy.grad\u001B[0;34m(y, y_pred)\u001B[0m\n\u001B[1;32m     10\u001B[0m \u001B[38;5;129m@staticmethod\u001B[39m\n\u001B[1;32m     11\u001B[0m \u001B[38;5;28;01mdef\u001B[39;00m \u001B[38;5;21mgrad\u001B[39m(y, y_pred):\n\u001B[0;32m---> 12\u001B[0m     grad \u001B[38;5;241m=\u001B[39m \u001B[43my\u001B[49m\u001B[43m \u001B[49m\u001B[38;5;241;43m-\u001B[39;49m\u001B[43m \u001B[49m\u001B[43my_pred\u001B[49m\n\u001B[1;32m     13\u001B[0m     \u001B[38;5;28;01mreturn\u001B[39;00m grad\n",
      "\u001B[0;31mValueError\u001B[0m: operands could not be broadcast together with shapes (128,) (128,129,129,5) "
     ]
    }
   ],
   "source": [
    "model.fit(samples=sample, batch_size=128, epochs=5, root_dir=root_dir)"
   ],
   "metadata": {
    "collapsed": false,
    "pycharm": {
     "name": "#%%\n"
    }
   }
  }
 ],
 "metadata": {
  "kernelspec": {
   "display_name": "Python 3",
   "language": "python",
   "name": "python3"
  },
  "language_info": {
   "codemirror_mode": {
    "name": "ipython",
    "version": 2
   },
   "file_extension": ".py",
   "mimetype": "text/x-python",
   "name": "python",
   "nbconvert_exporter": "python",
   "pygments_lexer": "ipython2",
   "version": "2.7.6"
  }
 },
 "nbformat": 4,
 "nbformat_minor": 0
}